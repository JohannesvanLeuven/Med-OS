{
 "cells": [
  {
   "cell_type": "code",
   "execution_count": 1,
   "id": "chinese-slovakia",
   "metadata": {},
   "outputs": [
    {
     "name": "stderr",
     "output_type": "stream",
     "text": [
      "In /home/kelu/.local/lib/python3.6/site-packages/matplotlib/mpl-data/stylelib/_classic_test.mplstyle: \n",
      "The text.latex.preview rcparam was deprecated in Matplotlib 3.3 and will be removed two minor releases later.\n",
      "In /home/kelu/.local/lib/python3.6/site-packages/matplotlib/mpl-data/stylelib/_classic_test.mplstyle: \n",
      "The mathtext.fallback_to_cm rcparam was deprecated in Matplotlib 3.3 and will be removed two minor releases later.\n",
      "In /home/kelu/.local/lib/python3.6/site-packages/matplotlib/mpl-data/stylelib/_classic_test.mplstyle: Support for setting the 'mathtext.fallback_to_cm' rcParam is deprecated since 3.3 and will be removed two minor releases later; use 'mathtext.fallback : 'cm' instead.\n",
      "In /home/kelu/.local/lib/python3.6/site-packages/matplotlib/mpl-data/stylelib/_classic_test.mplstyle: \n",
      "The validate_bool_maybe_none function was deprecated in Matplotlib 3.3 and will be removed two minor releases later.\n",
      "In /home/kelu/.local/lib/python3.6/site-packages/matplotlib/mpl-data/stylelib/_classic_test.mplstyle: \n",
      "The savefig.jpeg_quality rcparam was deprecated in Matplotlib 3.3 and will be removed two minor releases later.\n",
      "In /home/kelu/.local/lib/python3.6/site-packages/matplotlib/mpl-data/stylelib/_classic_test.mplstyle: \n",
      "The keymap.all_axes rcparam was deprecated in Matplotlib 3.3 and will be removed two minor releases later.\n",
      "In /home/kelu/.local/lib/python3.6/site-packages/matplotlib/mpl-data/stylelib/_classic_test.mplstyle: \n",
      "The animation.avconv_path rcparam was deprecated in Matplotlib 3.3 and will be removed two minor releases later.\n",
      "In /home/kelu/.local/lib/python3.6/site-packages/matplotlib/mpl-data/stylelib/_classic_test.mplstyle: \n",
      "The animation.avconv_args rcparam was deprecated in Matplotlib 3.3 and will be removed two minor releases later.\n"
     ]
    }
   ],
   "source": [
    "import pyusbus\n",
    " \n",
    "import numpy as np \n",
    "import matplotlib.pyplot as plt\n",
    "\n",
    "# Figures\n",
    "import numpy as np\n",
    "# Utilities\n",
    "import json\n",
    "import base64\n",
    "import struct\n",
    "import time \n",
    "import matplotlib.pyplot as plt\n",
    "import cv2\n",
    "\n",
    "import usb.core\n",
    "import usb.util"
   ]
  },
  {
   "cell_type": "markdown",
   "id": "velvet-lender",
   "metadata": {},
   "source": [
    "# Initialize the probe"
   ]
  },
  {
   "cell_type": "code",
   "execution_count": 55,
   "id": "unexpected-liability",
   "metadata": {},
   "outputs": [
    {
     "name": "stdout",
     "output_type": "stream",
     "text": [
      "0\n",
      "Reset done\n",
      "Payloads sent\n"
     ]
    }
   ],
   "source": [
    "probe = pyusbus.Doppler();"
   ]
  },
  {
   "cell_type": "code",
   "execution_count": 56,
   "id": "foreign-termination",
   "metadata": {},
   "outputs": [
    {
     "data": {
      "text/plain": [
       "dict_keys(['101', '247', '254', '256', '260', '263', '265', '267', '269', '498', '666', '8788', '_107', '_255', '_261', '_263', '_265', '_267', '_269', '_271', '_273', '_498', '_653', '_2814', '_6115', '_6387', '_7835', '_7839', '_7843', '_7847', '_7849', '_7851', '_16249', '_16251', '_18579', '_18581', '_20889', '_20894', '_22872', '_22874', '_29016', '_34489', '_34491', '_37965', '_37968'])"
      ]
     },
     "execution_count": 56,
     "metadata": {},
     "output_type": "execute_result"
    }
   ],
   "source": [
    "probe.payloads.keys()"
   ]
  },
  {
   "cell_type": "markdown",
   "id": "convenient-chamber",
   "metadata": {},
   "source": [
    "# Read a few frames and creates the loop"
   ]
  },
  {
   "cell_type": "code",
   "execution_count": 51,
   "id": "capable-glucose",
   "metadata": {},
   "outputs": [
    {
     "ename": "USBTimeoutError",
     "evalue": "[Errno 110] Operation timed out",
     "output_type": "error",
     "traceback": [
      "\u001b[0;31m---------------------------------------------------------------------------\u001b[0m",
      "\u001b[0;31mUSBTimeoutError\u001b[0m                           Traceback (most recent call last)",
      "\u001b[0;32m<ipython-input-51-c76ccfeaf19c>\u001b[0m in \u001b[0;36m<module>\u001b[0;34m\u001b[0m\n\u001b[1;32m      5\u001b[0m \u001b[0mpayload\u001b[0m \u001b[0;34m=\u001b[0m \u001b[0mprobe\u001b[0m\u001b[0;34m.\u001b[0m\u001b[0mpayloads\u001b[0m\u001b[0;34m[\u001b[0m\u001b[0;34m\"8788\"\u001b[0m\u001b[0;34m]\u001b[0m\u001b[0;34m\u001b[0m\u001b[0;34m\u001b[0m\u001b[0m\n\u001b[1;32m      6\u001b[0m \u001b[0mprobe\u001b[0m\u001b[0;34m.\u001b[0m\u001b[0mEPOUT\u001b[0m\u001b[0;34m.\u001b[0m\u001b[0mwrite\u001b[0m\u001b[0;34m(\u001b[0m\u001b[0mpayload\u001b[0m\u001b[0;34m)\u001b[0m\u001b[0;34m\u001b[0m\u001b[0;34m\u001b[0m\u001b[0m\n\u001b[0;32m----> 7\u001b[0;31m \u001b[0mprobe\u001b[0m\u001b[0;34m.\u001b[0m\u001b[0mgetImages\u001b[0m\u001b[0;34m(\u001b[0m\u001b[0mn\u001b[0m\u001b[0;34m=\u001b[0m\u001b[0;36m1\u001b[0m\u001b[0;34m)\u001b[0m\u001b[0;34m\u001b[0m\u001b[0;34m\u001b[0m\u001b[0m\n\u001b[0m\u001b[1;32m      8\u001b[0m \u001b[0mIMG\u001b[0m \u001b[0;34m=\u001b[0m \u001b[0mprobe\u001b[0m\u001b[0;34m.\u001b[0m\u001b[0mcreateLoop\u001b[0m\u001b[0;34m(\u001b[0m\u001b[0;34m)\u001b[0m\u001b[0;34m\u001b[0m\u001b[0;34m\u001b[0m\u001b[0m\n\u001b[1;32m      9\u001b[0m \u001b[0mnp\u001b[0m\u001b[0;34m.\u001b[0m\u001b[0mshape\u001b[0m\u001b[0;34m(\u001b[0m\u001b[0mIMG\u001b[0m\u001b[0;34m)\u001b[0m\u001b[0;34m\u001b[0m\u001b[0;34m\u001b[0m\u001b[0m\n",
      "\u001b[0;32m~/.local/lib/python3.6/site-packages/pyusbus-0.1.0-py3.6.egg/pyusbus/acq.py\u001b[0m in \u001b[0;36mgetImages\u001b[0;34m(self, n)\u001b[0m\n\u001b[1;32m    620\u001b[0m         \u001b[0mi\u001b[0m \u001b[0;34m=\u001b[0m \u001b[0;36m0\u001b[0m\u001b[0;34m\u001b[0m\u001b[0;34m\u001b[0m\u001b[0m\n\u001b[1;32m    621\u001b[0m         \u001b[0;32mwhile\u001b[0m \u001b[0mi\u001b[0m \u001b[0;34m<\u001b[0m \u001b[0mnReads\u001b[0m\u001b[0;34m//\u001b[0m\u001b[0;36m4096\u001b[0m\u001b[0;34m:\u001b[0m \u001b[0;31m# 2 because we're reading 2bytes words\u001b[0m\u001b[0;34m\u001b[0m\u001b[0;34m\u001b[0m\u001b[0m\n\u001b[0;32m--> 622\u001b[0;31m             \u001b[0mdata\u001b[0m\u001b[0;34m.\u001b[0m\u001b[0mappend\u001b[0m\u001b[0;34m(\u001b[0m\u001b[0mself\u001b[0m\u001b[0;34m.\u001b[0m\u001b[0mEPIN\u001b[0m\u001b[0;34m.\u001b[0m\u001b[0mread\u001b[0m\u001b[0;34m(\u001b[0m\u001b[0;36m4096\u001b[0m\u001b[0;34m)\u001b[0m\u001b[0;34m)\u001b[0m\u001b[0;34m\u001b[0m\u001b[0;34m\u001b[0m\u001b[0m\n\u001b[0m\u001b[1;32m    623\u001b[0m             \u001b[0mi\u001b[0m\u001b[0;34m+=\u001b[0m\u001b[0;36m1\u001b[0m\u001b[0;34m\u001b[0m\u001b[0;34m\u001b[0m\u001b[0m\n\u001b[1;32m    624\u001b[0m             \u001b[0mtimings\u001b[0m\u001b[0;34m.\u001b[0m\u001b[0mappend\u001b[0m\u001b[0;34m(\u001b[0m\u001b[0mtime\u001b[0m\u001b[0;34m.\u001b[0m\u001b[0mtime\u001b[0m\u001b[0;34m(\u001b[0m\u001b[0;34m)\u001b[0m\u001b[0;34m)\u001b[0m\u001b[0;34m\u001b[0m\u001b[0;34m\u001b[0m\u001b[0m\n",
      "\u001b[0;32m~/.local/lib/python3.6/site-packages/usb/core.py\u001b[0m in \u001b[0;36mread\u001b[0;34m(self, size_or_buffer, timeout)\u001b[0m\n\u001b[1;32m    421\u001b[0m         \u001b[0mFor\u001b[0m \u001b[0mdetails\u001b[0m\u001b[0;34m,\u001b[0m \u001b[0msee\u001b[0m \u001b[0mthe\u001b[0m \u001b[0mDevice\u001b[0m\u001b[0;34m.\u001b[0m\u001b[0mread\u001b[0m\u001b[0;34m(\u001b[0m\u001b[0;34m)\u001b[0m \u001b[0mmethod\u001b[0m\u001b[0;34m.\u001b[0m\u001b[0;34m\u001b[0m\u001b[0;34m\u001b[0m\u001b[0m\n\u001b[1;32m    422\u001b[0m         \"\"\"\n\u001b[0;32m--> 423\u001b[0;31m         \u001b[0;32mreturn\u001b[0m \u001b[0mself\u001b[0m\u001b[0;34m.\u001b[0m\u001b[0mdevice\u001b[0m\u001b[0;34m.\u001b[0m\u001b[0mread\u001b[0m\u001b[0;34m(\u001b[0m\u001b[0mself\u001b[0m\u001b[0;34m,\u001b[0m \u001b[0msize_or_buffer\u001b[0m\u001b[0;34m,\u001b[0m \u001b[0mtimeout\u001b[0m\u001b[0;34m)\u001b[0m\u001b[0;34m\u001b[0m\u001b[0;34m\u001b[0m\u001b[0m\n\u001b[0m\u001b[1;32m    424\u001b[0m \u001b[0;34m\u001b[0m\u001b[0m\n\u001b[1;32m    425\u001b[0m     \u001b[0;32mdef\u001b[0m \u001b[0mclear_halt\u001b[0m\u001b[0;34m(\u001b[0m\u001b[0mself\u001b[0m\u001b[0;34m)\u001b[0m\u001b[0;34m:\u001b[0m\u001b[0;34m\u001b[0m\u001b[0;34m\u001b[0m\u001b[0m\n",
      "\u001b[0;32m~/.local/lib/python3.6/site-packages/usb/core.py\u001b[0m in \u001b[0;36mread\u001b[0;34m(self, endpoint, size_or_buffer, timeout)\u001b[0m\n\u001b[1;32m   1022\u001b[0m                 \u001b[0mintf\u001b[0m\u001b[0;34m.\u001b[0m\u001b[0mbInterfaceNumber\u001b[0m\u001b[0;34m,\u001b[0m\u001b[0;34m\u001b[0m\u001b[0;34m\u001b[0m\u001b[0m\n\u001b[1;32m   1023\u001b[0m                 \u001b[0mbuff\u001b[0m\u001b[0;34m,\u001b[0m\u001b[0;34m\u001b[0m\u001b[0;34m\u001b[0m\u001b[0m\n\u001b[0;32m-> 1024\u001b[0;31m                 self.__get_timeout(timeout))\n\u001b[0m\u001b[1;32m   1025\u001b[0m \u001b[0;34m\u001b[0m\u001b[0m\n\u001b[1;32m   1026\u001b[0m         \u001b[0;32mif\u001b[0m \u001b[0misinstance\u001b[0m\u001b[0;34m(\u001b[0m\u001b[0msize_or_buffer\u001b[0m\u001b[0;34m,\u001b[0m \u001b[0marray\u001b[0m\u001b[0;34m.\u001b[0m\u001b[0marray\u001b[0m\u001b[0;34m)\u001b[0m\u001b[0;34m:\u001b[0m\u001b[0;34m\u001b[0m\u001b[0;34m\u001b[0m\u001b[0m\n",
      "\u001b[0;32m~/.local/lib/python3.6/site-packages/usb/backend/libusb1.py\u001b[0m in \u001b[0;36mbulk_read\u001b[0;34m(self, dev_handle, ep, intf, buff, timeout)\u001b[0m\n\u001b[1;32m    849\u001b[0m                            \u001b[0mintf\u001b[0m\u001b[0;34m,\u001b[0m\u001b[0;34m\u001b[0m\u001b[0;34m\u001b[0m\u001b[0m\n\u001b[1;32m    850\u001b[0m                            \u001b[0mbuff\u001b[0m\u001b[0;34m,\u001b[0m\u001b[0;34m\u001b[0m\u001b[0;34m\u001b[0m\u001b[0m\n\u001b[0;32m--> 851\u001b[0;31m                            timeout)\n\u001b[0m\u001b[1;32m    852\u001b[0m \u001b[0;34m\u001b[0m\u001b[0m\n\u001b[1;32m    853\u001b[0m     \u001b[0;34m@\u001b[0m\u001b[0mmethodtrace\u001b[0m\u001b[0;34m(\u001b[0m\u001b[0m_logger\u001b[0m\u001b[0;34m)\u001b[0m\u001b[0;34m\u001b[0m\u001b[0;34m\u001b[0m\u001b[0m\n",
      "\u001b[0;32m~/.local/lib/python3.6/site-packages/usb/backend/libusb1.py\u001b[0m in \u001b[0;36m__read\u001b[0;34m(self, fn, dev_handle, ep, intf, buff, timeout)\u001b[0m\n\u001b[1;32m    952\u001b[0m         \u001b[0;31m# do not assume LIBUSB_ERROR_TIMEOUT means no I/O.\u001b[0m\u001b[0;34m\u001b[0m\u001b[0;34m\u001b[0m\u001b[0;34m\u001b[0m\u001b[0m\n\u001b[1;32m    953\u001b[0m         \u001b[0;32mif\u001b[0m \u001b[0;32mnot\u001b[0m \u001b[0;34m(\u001b[0m\u001b[0mtransferred\u001b[0m\u001b[0;34m.\u001b[0m\u001b[0mvalue\u001b[0m \u001b[0;32mand\u001b[0m \u001b[0mretval\u001b[0m \u001b[0;34m==\u001b[0m \u001b[0mLIBUSB_ERROR_TIMEOUT\u001b[0m\u001b[0;34m)\u001b[0m\u001b[0;34m:\u001b[0m\u001b[0;34m\u001b[0m\u001b[0;34m\u001b[0m\u001b[0m\n\u001b[0;32m--> 954\u001b[0;31m             \u001b[0m_check\u001b[0m\u001b[0;34m(\u001b[0m\u001b[0mretval\u001b[0m\u001b[0;34m)\u001b[0m\u001b[0;34m\u001b[0m\u001b[0;34m\u001b[0m\u001b[0m\n\u001b[0m\u001b[1;32m    955\u001b[0m         \u001b[0;32mreturn\u001b[0m \u001b[0mtransferred\u001b[0m\u001b[0;34m.\u001b[0m\u001b[0mvalue\u001b[0m\u001b[0;34m\u001b[0m\u001b[0;34m\u001b[0m\u001b[0m\n\u001b[1;32m    956\u001b[0m \u001b[0;34m\u001b[0m\u001b[0m\n",
      "\u001b[0;32m~/.local/lib/python3.6/site-packages/usb/backend/libusb1.py\u001b[0m in \u001b[0;36m_check\u001b[0;34m(ret)\u001b[0m\n\u001b[1;32m    600\u001b[0m             \u001b[0;32mraise\u001b[0m \u001b[0mNotImplementedError\u001b[0m\u001b[0;34m(\u001b[0m\u001b[0m_strerror\u001b[0m\u001b[0;34m(\u001b[0m\u001b[0mret\u001b[0m\u001b[0;34m)\u001b[0m\u001b[0;34m)\u001b[0m\u001b[0;34m\u001b[0m\u001b[0;34m\u001b[0m\u001b[0m\n\u001b[1;32m    601\u001b[0m         \u001b[0;32melif\u001b[0m \u001b[0mret\u001b[0m \u001b[0;34m==\u001b[0m \u001b[0mLIBUSB_ERROR_TIMEOUT\u001b[0m\u001b[0;34m:\u001b[0m\u001b[0;34m\u001b[0m\u001b[0;34m\u001b[0m\u001b[0m\n\u001b[0;32m--> 602\u001b[0;31m             \u001b[0;32mraise\u001b[0m \u001b[0mUSBTimeoutError\u001b[0m\u001b[0;34m(\u001b[0m\u001b[0m_strerror\u001b[0m\u001b[0;34m(\u001b[0m\u001b[0mret\u001b[0m\u001b[0;34m)\u001b[0m\u001b[0;34m,\u001b[0m \u001b[0mret\u001b[0m\u001b[0;34m,\u001b[0m \u001b[0m_libusb_errno\u001b[0m\u001b[0;34m[\u001b[0m\u001b[0mret\u001b[0m\u001b[0;34m]\u001b[0m\u001b[0;34m)\u001b[0m\u001b[0;34m\u001b[0m\u001b[0;34m\u001b[0m\u001b[0m\n\u001b[0m\u001b[1;32m    603\u001b[0m         \u001b[0;32melse\u001b[0m\u001b[0;34m:\u001b[0m\u001b[0;34m\u001b[0m\u001b[0;34m\u001b[0m\u001b[0m\n\u001b[1;32m    604\u001b[0m             \u001b[0;32mraise\u001b[0m \u001b[0mUSBError\u001b[0m\u001b[0;34m(\u001b[0m\u001b[0m_strerror\u001b[0m\u001b[0;34m(\u001b[0m\u001b[0mret\u001b[0m\u001b[0;34m)\u001b[0m\u001b[0;34m,\u001b[0m \u001b[0mret\u001b[0m\u001b[0;34m,\u001b[0m \u001b[0m_libusb_errno\u001b[0m\u001b[0;34m[\u001b[0m\u001b[0mret\u001b[0m\u001b[0;34m]\u001b[0m\u001b[0;34m)\u001b[0m\u001b[0;34m\u001b[0m\u001b[0;34m\u001b[0m\u001b[0m\n",
      "\u001b[0;31mUSBTimeoutError\u001b[0m: [Errno 110] Operation timed out"
     ]
    }
   ],
   "source": [
    "payload = probe.payloads[\"666\"]\n",
    "probe.EPOUT.write(payload)   \n",
    "payload = probe.payloads[\"247\"]\n",
    "probe.EPOUT.write(payload)\n",
    "payload = probe.payloads[\"8788\"]\n",
    "probe.EPOUT.write(payload)  \n",
    "probe.getImages(n=1)\n",
    "IMG = probe.createLoop()\n",
    "np.shape(IMG)"
   ]
  },
  {
   "cell_type": "code",
   "execution_count": null,
   "id": "colored-answer",
   "metadata": {},
   "outputs": [],
   "source": [
    "payload = probe.payloads[\"247\"] #961\n",
    "probe.EPOUT.write(payload)\n",
    "payload = probe.payloads[\"269\"] #160\n",
    "probe.EPOUT.write(payload)\n",
    "payload = probe.payloads[\"666\"] #960\n",
    "probe.EPOUT.write(payload)   "
   ]
  },
  {
   "cell_type": "code",
   "execution_count": 59,
   "id": "tired-diploma",
   "metadata": {},
   "outputs": [
    {
     "data": {
      "text/plain": [
       "(1, 128, 3584)"
      ]
     },
     "execution_count": 59,
     "metadata": {},
     "output_type": "execute_result"
    }
   ],
   "source": [
    "\n",
    "probe.getImages(n=1)\n",
    "IMG = probe.createLoop()\n",
    "np.shape(IMG)"
   ]
  },
  {
   "cell_type": "code",
   "execution_count": 49,
   "id": "blocked-reception",
   "metadata": {},
   "outputs": [
    {
     "data": {
      "text/plain": [
       "(1, 128, 3584)"
      ]
     },
     "execution_count": 49,
     "metadata": {},
     "output_type": "execute_result"
    }
   ],
   "source": [
    "probe.getImages(n=1)\n",
    "IMG = probe.createLoop()\n",
    "np.shape(IMG)"
   ]
  },
  {
   "cell_type": "code",
   "execution_count": 35,
   "id": "heard-immunology",
   "metadata": {},
   "outputs": [
    {
     "ename": "IndexError",
     "evalue": "list index out of range",
     "output_type": "error",
     "traceback": [
      "\u001b[0;31m---------------------------------------------------------------------------\u001b[0m",
      "\u001b[0;31mIndexError\u001b[0m                                Traceback (most recent call last)",
      "\u001b[0;32m<ipython-input-35-5c397b20ea27>\u001b[0m in \u001b[0;36m<module>\u001b[0;34m\u001b[0m\n\u001b[1;32m      1\u001b[0m \u001b[0mplt\u001b[0m\u001b[0;34m.\u001b[0m\u001b[0mfigure\u001b[0m\u001b[0;34m(\u001b[0m\u001b[0mfigsize\u001b[0m\u001b[0;34m=\u001b[0m\u001b[0;34m(\u001b[0m\u001b[0;36m10\u001b[0m\u001b[0;34m,\u001b[0m\u001b[0;36m10\u001b[0m\u001b[0;34m)\u001b[0m\u001b[0;34m)\u001b[0m\u001b[0;34m\u001b[0m\u001b[0;34m\u001b[0m\u001b[0m\n\u001b[0;32m----> 2\u001b[0;31m \u001b[0mplt\u001b[0m\u001b[0;34m.\u001b[0m\u001b[0mimshow\u001b[0m\u001b[0;34m(\u001b[0m\u001b[0mnp\u001b[0m\u001b[0;34m.\u001b[0m\u001b[0msqrt\u001b[0m\u001b[0;34m(\u001b[0m\u001b[0mnp\u001b[0m\u001b[0;34m.\u001b[0m\u001b[0msqrt\u001b[0m\u001b[0;34m(\u001b[0m\u001b[0mnp\u001b[0m\u001b[0;34m.\u001b[0m\u001b[0mabs\u001b[0m\u001b[0;34m(\u001b[0m\u001b[0mprobe\u001b[0m\u001b[0;34m.\u001b[0m\u001b[0mloop\u001b[0m\u001b[0;34m[\u001b[0m\u001b[0;36m0\u001b[0m\u001b[0;34m]\u001b[0m\u001b[0;34m)\u001b[0m\u001b[0;34m)\u001b[0m\u001b[0;34m.\u001b[0m\u001b[0mT\u001b[0m\u001b[0;34m)\u001b[0m\u001b[0;34m,\u001b[0m \u001b[0maspect\u001b[0m\u001b[0;34m=\u001b[0m\u001b[0;34m'auto'\u001b[0m\u001b[0;34m,\u001b[0m \u001b[0mcmap\u001b[0m\u001b[0;34m=\u001b[0m\u001b[0;34m'bone'\u001b[0m\u001b[0;34m)\u001b[0m\u001b[0;34m\u001b[0m\u001b[0;34m\u001b[0m\u001b[0m\n\u001b[0m\u001b[1;32m      3\u001b[0m \u001b[0mplt\u001b[0m\u001b[0;34m.\u001b[0m\u001b[0mtitle\u001b[0m\u001b[0;34m(\u001b[0m\u001b[0;34m\"f\"\u001b[0m\u001b[0;34m)\u001b[0m\u001b[0;34m\u001b[0m\u001b[0;34m\u001b[0m\u001b[0m\n",
      "\u001b[0;31mIndexError\u001b[0m: list index out of range"
     ]
    },
    {
     "data": {
      "text/plain": [
       "<Figure size 720x720 with 0 Axes>"
      ]
     },
     "metadata": {},
     "output_type": "display_data"
    }
   ],
   "source": [
    "plt.figure(figsize=(10,10))\n",
    "plt.imshow(np.sqrt(np.sqrt(np.abs(probe.loop[0])).T), aspect='auto', cmap='bone')\n",
    "plt.title(\"f\")"
   ]
  },
  {
   "cell_type": "code",
   "execution_count": null,
   "id": "painted-reservation",
   "metadata": {},
   "outputs": [],
   "source": [
    "* 161\n",
    "  * 960, 961, 160\n",
    "  * 960, 961, 161\n",
    "\n",
    "    "
   ]
  },
  {
   "cell_type": "markdown",
   "id": "every-arrangement",
   "metadata": {},
   "source": [
    "# Summary of packets"
   ]
  },
  {
   "cell_type": "markdown",
   "id": "defensive-tribune",
   "metadata": {},
   "source": [
    "* 101 : [0 0 0 0 0 0 0 0 __4__  0 6 0 __0__ 0 0 0]. CMD 4. OFF. Could this be a __reset__?\n",
    "* 247 : [0 0 0 0 0 0 0 0 __9__  0 6 0 __1__ 0 0 0]. CMD 9. ON.\n",
    "* 254 : CMD2: as 256. a bit similar. Values not in order though.\n",
    "* 256 : CMD3: could be a gain line. Still, 128 values indicated, may hint at something to do with number of lines?\n",
    "* 260 : CMD4: 16 to 40 values. 24 spots. 24 is 8x3. \n",
    "* 263 : CMD5: Seems to be again a table.  Values in [value, register] order.\n",
    "* 265 : CMD6: Command 6.\n",
    "* 267 : CMD1: Same for 256 values. \n",
    "* 269 : [0 0 0 0 0 0 0 0 __1__  0 6 0 __0__ 0 0 0]. CMD 1. __Unfreeze__?.\n",
    "  * Alone after 8788, renables EP, but nothings comes out of it.\n",
    "* 498 : [0 0 0 0 0 0 0 0 __47__ 0 7 0 __8__ 0 0 0]. Commande 47 : commence par un 7 au lieu de 6. Pourquoi??\n",
    "  * Always used only once at boot\n",
    "* 666 : [0 0 0 0 0 0 0 0 __9__  0 6 0 __0__ 0 0 0]. CMD 9. Off.\n",
    "* 8788: [0 0 0 0 0 0 0 0 __1__  0 6 0 __1__ 0 0 0]. CMD 1. __Freeze__?  \n",
    " "
   ]
  },
  {
   "cell_type": "markdown",
   "id": "sexual-think",
   "metadata": {},
   "source": [
    "# Packets"
   ]
  },
  {
   "cell_type": "code",
   "execution_count": 61,
   "id": "serious-exhibition",
   "metadata": {},
   "outputs": [
    {
     "name": "stdout",
     "output_type": "stream",
     "text": [
      "101 512\n",
      "247 512\n",
      "254 1024\n",
      "256 1024\n",
      "260 512\n",
      "263 1024\n",
      "265 2560\n",
      "267 1536\n",
      "269 512\n",
      "498 512\n",
      "666 512\n",
      "8788 512\n"
     ]
    }
   ],
   "source": [
    "for k in [101, 247, 254, 256, 260, 263, 265, 267, 269, 498, 666, 8788]:\n",
    "    PL = probe.payloads[str(k)]\n",
    "    pl = np.trim_zeros(np.array( struct.unpack( '>'+str(len(PL)//1)+'B', PL ) ) , 'b')\n",
    "    print(k,len(PL))"
   ]
  },
  {
   "cell_type": "code",
   "execution_count": 29,
   "id": "expressed-avatar",
   "metadata": {},
   "outputs": [
    {
     "name": "stdout",
     "output_type": "stream",
     "text": [
      "Yeah\n",
      "101 \t 512 \t [0 0 0 0 0 0 0 0 4 0 6 0 0 0 0 0]\n",
      "Yeah\n",
      "247 \t 512 \t [0 0 0 0 0 0 0 0 9 0 6 0 1 0 0 0]\n",
      "Yeah\n",
      "254 \t 1024 \t [  0   0   0   0   0   0   0   0 100   0   1   0   0   0   0   0  36   0\n",
      "   1   0  41   0   0   0  12   0   1   0   0   0   0   0   3   0   6   0\n",
      "   1   0   0   0   9   0   1   0 248 255 255 255   1   0   1   0 240 158\n",
      "   0   0   7   0   6   0  35  54 184 240   8   0   1   0 252   6   0   0\n",
      "  23   0   1   0   3   0   0   0   1   0   7   0 255   0 255 255   8   0\n",
      "   6   0  56  20 185 252   7   0   1   0  56   0   0   0   2   0   1   0\n",
      "   0  10   0   0 101   0   1   0   0   0   0   0  37   0   1   0  16   0\n",
      "   0   0  10   0   1   0 252 255 255 255  11   0   1   0 254 255 255 255\n",
      "  13   0   1   0   0   0   0   0  14   0   1   0 254 255 255 255  15   0\n",
      "   1   0 252 255 255 255  16   0   1   0 248 255 255 255  17   0   1   0\n",
      "   9   0   0   0  18   0   1   0   5   0   0   0  19   0   1   0   2   0\n",
      "   0   0  20   0   1   0   0   0   0   0  21   0   1   0   0   0   0   0\n",
      "  22   0   1   0   1   0   0   0  24   0   1   0   7   0   0   0   3   0\n",
      "   1   0  22   0   0   0   4   0   1   0   1   0   0   0   5   0   1   0\n",
      "  11   0   0   0  98   0   1   0   0   0   0   0  34   0   1   0 150 253\n",
      " 223 105  99   0   1   0   0   0   0   0  35   0   1   0 208  23   0   0\n",
      " 106   0   1   0   0   0   0   0   5   0   6   0   4  71 236 200   6   0\n",
      "   6   0  16  72 202 221 128   0   1   0 152   0   0   0  96   0   1   0\n",
      "   0   0   0   0  97   0   1   0   0   0   0   0 102   0   1   0   0   0\n",
      "   0   0 103   0   1   0   0   0   0   0 104   0   1   0   0   0   0   0\n",
      " 105   0   1   0   0   0   0   0 107   0   1   0   0   0   0   0 108   0\n",
      "   1   0   0   0   0   0 109   0   1   0   0   0   0   0 110   0   1   0\n",
      "   0   0   0   0 111   0   1   0   0   0   0   0 112   0   1   0 159  22\n",
      "   0   0 113   0   1   0  42  12   0   0 114   0   1   0 237   4   0   0\n",
      " 115   0   1   0 232   0   0   0 116   0   1   0  26   0   0   0 117   0\n",
      "   1   0 131   2   0   0 118   0   1   0  37   8   0   0 119   0   1   0\n",
      " 253  16   0   0 120   0   1   0   0   0   0   0 121   0   1   0   0   0\n",
      "   0   0 122   0   1   0   0   0   0   0   2   0 165 165  90  90 165 165\n",
      " 165 165  90  90   2   0  90  90   0   0   0   0   0   0   0   0 123   0\n",
      "   1   0   0   0   0   0 124   0   1   0   0   0   0   0 125   0   1   0\n",
      "   0   0   0   0 126   0   1   0   0   0   0   0 127   0   1   0   0   0\n",
      "   0   0  25   0   1   0   0   0   0   0  26   0   1   0 255   0   0   0\n",
      "  27   0   1   0   1   0   0   0  28   0   1   0   1   0   0   0  29   0\n",
      "   1   0   0   0   0   0  10   0   6   0 128   0   0   0  32   0   1   0\n",
      "   0   0   0   0  33   0   1   0   0   0   0   0  30   0   1   0   0   0\n",
      "   0   0  31   0   1   0   0   1   0   0   2   0   6   0 255   0   0   0]\n",
      "Yeah\n",
      "256 \t 1024 \t [  0   0   0   0   0   0   0   0   1 210   0   0  96 198   1   0   0  68\n",
      "   2   0 128  68   3   0  16  69   4   0 144  69   5   0  16  70   6   0\n",
      " 160  70   7   0  32  71   8   0 160  71   9   0  32  72  10   0 128  72\n",
      "  11   0 224  72  12   0  64  73  13   0 160  73  14   0   0  74  15   0\n",
      "  96  74  16   0 176  74  17   0   0  75  18   0  48  75  19   0  96  75\n",
      "  20   0 144  75  21   0 176  75  22   0 224  75  23   0   0  76  24   0\n",
      "   0  76  25   0   0  76  26   0   0  76  27   0   0  76  28   0   0  76\n",
      "  29   0   0  76  30   0   0  76  31   0   0  76  32   0   0  76  33   0\n",
      "   0  76  34   0   0  76  35   0   0  76  36   0   0  76  37   0   0  76\n",
      "  38   0   0  76  39   0   0  76  40   0   0  76  41   0   0  76  42   0\n",
      "   0  76  43   0   0  76  44   0   0  76  45   0   0  76  46   0   0  76\n",
      "  47   0   0  76  48   0   0  76  49   0   0  76  50   0   0  76  51   0\n",
      "   0  76  52   0   0  76  53   0   0  76  54   0   0  76  55   0   0  76\n",
      "  56   0   0  76  57   0   0  76  58   0   0  76  59   0   0  76  60   0\n",
      "   0  76  61   0   0  76  62   0   0  76  63   0   0  76  64   0   0  76\n",
      "  65   0   0  76  66   0   0  76  67   0   0  76  68   0   0  76  69   0\n",
      "   0  76  70   0   0  76  71   0   0  76  72   0   0  76  73   0   0  76\n",
      "  74   0   0  76  75   0   0  76  76   0   0  76  77   0   0  76  78   0\n",
      "   0  76  79   0   0  76  80   0   0  76  81   0   0  76  82   0   0  76\n",
      "  83   0   0  76  84   0   0  76  85   0   0  76  86   0   0  76  87   0\n",
      "   0  76  88   0   0  76  89   0   0  76  90   0   0  76  91   0   0  76\n",
      "  92   0   0  76  93   0   0  76  94   0   0  76  95   0   0  76  96   0\n",
      "   0  76  97   0   0  76  98   0   0  76  99   0   0  76 100   0   0  76\n",
      " 101   0   0  76 102   0   0  76 103   0   0  76 104   0   0  76 105   0\n",
      "   0  76 106   0   0  76 107   0   0  76 108   0   0  76 109   0   0  76\n",
      " 110   0   0  76 111   0   0  76 112   0   0  76 113   0   0  76 114   0\n",
      "   0  76 115   0   0  76 116   0   0  76 117   0   0  76 118   0   0  76\n",
      " 119   0   0  76 120   0   0  76 121   0   0  76 122   0   0  76 123   0\n",
      "   0  76 124   0   0  76 125   0   0  76 126   0   0  76 127   0]\n",
      "Yeah\n",
      "260 \t 512 \t [  0   0   0   0   0   0   0   0  60   0  16   0  15   4  17   0  15   5\n",
      "  18   0   0 255  19   0   0   8  20   0   1   9  21   0   0  13  22   0\n",
      "  15  14  23   0   0  15  24   0  32  16  25   0   6  17  26   0   8  18\n",
      "  27   0   1  20  28   0   0  21  29   0   3  22  30   0   3  24  31   0\n",
      "  85  25  32   0   5  26  33   0  85  27  34   0   5  28  35   0   0  33\n",
      "  36   0   0  34  37   0  71  43  38   0   0  44  39   0   0  45  40   0\n",
      "   1 255  41   0   0   0   0   0   0   0   0   0   0   0   0   0   0   0\n",
      "   0   0   0   0   0   0   0   0   0   0   0   0   0   0   0   0   0   0\n",
      "   0   0   0   0   0   0   0   0   0   0   0   0   0   0   0   0   0   0\n",
      "   0   0   0   0   0   0   0   0   0   0   0   0   0   0   0   0   0   0\n",
      "   0   0   0   0   0   0   0   0   0   0   0   0   0   0   0   0   0   0\n",
      "   0   0   0   0   0   0   0   0   0   0   0   0   0   0   0   0   0   0\n",
      "   0   0   0   0   0   0   0   0   0   0   0   0   0   0   0   0   0   0\n",
      "   0   0   0   0   0   0   0   0   0   0   0   0   0   0   0   0   0   0\n",
      "   0   0   0   0   0   0   0   0   0   0   0   0]\n",
      "Yeah\n",
      "263 \t 1024 \t [  0   0   0   0   0   0   0   0  17  17   0   0  17  17   1   0  17  33\n",
      "   2   0  34  34   3   0  34  34   4   0  34  68   5   0  68  68   6   0\n",
      "  68  68   7   0  68  68   8   0  68  68   9   0  68  68  10   0  68  68\n",
      "  11   0  68  68  12   0  68  68  13   0  68  68  14   0  68  68  15   0\n",
      "  68  68  16   0  68  68  17   0  68  68  18   0  68  68  19   0  68  68\n",
      "  20   0  68  68  21   0  68  68  22   0  68  68  23   0  68  68  24   0\n",
      "  68  68  25   0  68  68  26   0  68  68  27   0  68  68  28   0  68  68\n",
      "  29   0  68  68  30   0  68  68  31   0  68  68  32   0  68  68  33   0\n",
      "  68  68  34   0  68  68  35   0  68  68  36   0  68  68  37   0  68  68\n",
      "  38   0  68  68  39   0  68  68  40   0  68  68  41   0  68  68  42   0\n",
      "  68  68  43   0  68  68  44   0  68  68  45   0  68  68  46   0  68  68\n",
      "  47   0  68  68  48   0  68  68  49   0  68  68  50   0  68  68  51   0\n",
      "  68  68  52   0  68  68  53   0  68  68  54   0  68  68  55   0  68  68\n",
      "  56   0  68  68  57   0  68  68  58   0  68  68  59   0  68  68  60   0\n",
      "  68  68  61   0  68  68  62   0  68  68  63   0  34  34  64   0  34  34\n",
      "  65   0  34  18  66   0  17  17  67   0  17  17  68   0  17  68  69   0\n",
      "  68  68  70   0  68  68  71   0  68  68  72   0  68  68  73   0  68  68\n",
      "  74   0  68  68  75   0  68  68  76   0  68  68  77   0  68  68  78   0\n",
      "  68  68  79   0  68  68  80   0  68  68  81   0  68  68  82   0  68  68\n",
      "  83   0  68  68  84   0  68  68  85   0  68  68  86   0  68  68  87   0\n",
      "  68  68  88   0  68  68  89   0  68  68  90   0  68  68  91   0  68  68\n",
      "  92   0  68  68  93   0  68  68  94   0  68  68  95   0  68  68  96   0\n",
      "  68  68  97   0  68  68  98   0  68  68  99   0  68  68 100   0  68  68\n",
      " 101   0  68  68 102   0  68  68 103   0  68  68 104   0  68  68 105   0\n",
      "  68  68 106   0  68  68 107   0  68  68 108   0  68  68 109   0  68  68\n",
      " 110   0  68  68 111   0  68  68 112   0  68  68 113   0  68  68 114   0\n",
      "  68  68 115   0  68  68 116   0  68  68 117   0  68  68 118   0  68  68\n",
      " 119   0  68  68 120   0  68  68 121   0  68  68 122   0  68  68 123   0\n",
      "  68  68 124   0  68  68 125   0  68  68 126   0  68  68 127   0]\n",
      "Yeah\n",
      "265 \t 2560 \t [  0   0   0 ...   0 255   3]\n",
      "Yeah\n",
      "267 \t 1536 \t [  0   0   0 ... 179 255   0]\n",
      "Yeah\n",
      "269 \t 512 \t [0 0 0 0 0 0 0 0 1 0 6 0 0 0 0 0]\n",
      "Yeah\n",
      "498 \t 512 \t [ 0  0  0  0  0  0  0  0 47  0  7  0  8  0  0  0]\n",
      "Yeah\n",
      "666 \t 512 \t [0 0 0 0 0 0 0 0 9 0 6 0 0 0 0 0]\n",
      "Yeah\n",
      "8788 \t 512 \t [0 0 0 0 0 0 0 0 1 0 6 0 1 0 0 0]\n"
     ]
    }
   ],
   "source": [
    "for k in [101, 247, 254, 256, 260, 263, 265, 267, 269, 498, 666, 8788]:\n",
    "    PL = probe.payloads[str(k)]\n",
    "    pl = np.trim_zeros(np.array( struct.unpack( '>'+str(len(PL)//1)+'B', PL ) ) , 'b')\n",
    "    pl = pl[4:-4] # trimming 165 165  90  90  //   90  90 165 165\n",
    "    if (pl[:2] == pl[-4:-2]).all():\n",
    "        print(\"Yeah\")\n",
    "        pl = pl[4:-4]\n",
    "    print(k,\"\\t\",len(PL),\"\\t\",pl)"
   ]
  },
  {
   "cell_type": "markdown",
   "id": "educational-shield",
   "metadata": {},
   "source": [
    "## Remarks\n",
    "\n",
    "```\n",
    "* 269  : [0 0 0 0 0 0 0 0 __1__ 0  6 0 __0__ 0 0 0] ressemble à\n",
    "* 8788 : [0 0 0 0 0 0 0 0 __1__ 0  6 0 __1__ 0 0 0]\n",
    "  * Commande 1: freeze/unfreeze?\n",
    "* 666  : [0 0 0 0 0 0 0 0 __9__ 0  6 0 __0__ 0 0 0] ressemble à \n",
    "* 247  : [0 0 0 0 0 0 0 0 __9__ 0  6 0 __1__ 0 0 0]\n",
    "  * Commande 9 ++ option ON/OFF ?\n",
    "* 101  : [0 0 0 0 0 0 0 0 __4__ 0  6 0 __0__ 0 0 0]\n",
    "  * Commande 4: qu'est ce qu'on a désactivé?\n",
    "* 498:   [0 0 0 0 0 0 0 0 __47__ 0 7 0 __8__ 0 0 0]\n",
    "  * Commande 47 : commence par un 7 au lieu de 6. Pourquoi??\n",
    "```"
   ]
  },
  {
   "cell_type": "markdown",
   "id": "continent-worst",
   "metadata": {},
   "source": [
    "### Restent les packets\n",
    " * [254, 256, 260, 263, 265, 267, 498]"
   ]
  },
  {
   "cell_type": "code",
   "execution_count": 46,
   "id": "alive-outdoors",
   "metadata": {},
   "outputs": [
    {
     "name": "stdout",
     "output_type": "stream",
     "text": [
      "Yeah\n",
      "254 \t 1024 \t [  0   0   0   0   0   0   0   0 100   0   1   0   0   0   0   0  36   0\n",
      "   1   0  41   0   0   0  12   0   1   0   0   0   0   0   3   0   6   0\n",
      "   1   0   0   0   9   0   1   0 248 255 255 255   1   0   1   0 240 158\n",
      "   0   0   7   0   6   0  35  54 184 240   8   0   1   0 252   6   0   0\n",
      "  23   0   1   0   3   0   0   0   1   0   7   0 255   0 255 255   8   0\n",
      "   6   0  56  20 185 252   7   0   1   0  56   0   0   0   2   0   1   0\n",
      "   0  10   0   0 101   0   1   0   0   0   0   0  37   0   1   0  16   0\n",
      "   0   0  10   0   1   0 252 255 255 255  11   0   1   0 254 255 255 255\n",
      "  13   0   1   0   0   0   0   0  14   0   1   0 254 255 255 255  15   0\n",
      "   1   0 252 255 255 255  16   0   1   0 248 255 255 255  17   0   1   0\n",
      "   9   0   0   0  18   0   1   0   5   0   0   0  19   0   1   0   2   0\n",
      "   0   0  20   0   1   0   0   0   0   0  21   0   1   0   0   0   0   0\n",
      "  22   0   1   0   1   0   0   0  24   0   1   0   7   0   0   0   3   0\n",
      "   1   0  22   0   0   0   4   0   1   0   1   0   0   0   5   0   1   0\n",
      "  11   0   0   0  98   0   1   0   0   0   0   0  34   0   1   0 150 253\n",
      " 223 105  99   0   1   0   0   0   0   0  35   0   1   0 208  23   0   0\n",
      " 106   0   1   0   0   0   0   0   5   0   6   0   4  71 236 200   6   0\n",
      "   6   0  16  72 202 221 128   0   1   0 152   0   0   0  96   0   1   0\n",
      "   0   0   0   0  97   0   1   0   0   0   0   0 102   0   1   0   0   0\n",
      "   0   0 103   0   1   0   0   0   0   0 104   0   1   0   0   0   0   0\n",
      " 105   0   1   0   0   0   0   0 107   0   1   0   0   0   0   0 108   0\n",
      "   1   0   0   0   0   0 109   0   1   0   0   0   0   0 110   0   1   0\n",
      "   0   0   0   0 111   0   1   0   0   0   0   0 112   0   1   0 159  22\n",
      "   0   0 113   0   1   0  42  12   0   0 114   0   1   0 237   4   0   0\n",
      " 115   0   1   0 232   0   0   0 116   0   1   0  26   0   0   0 117   0\n",
      "   1   0 131   2   0   0 118   0   1   0  37   8   0   0 119   0   1   0\n",
      " 253  16   0   0 120   0   1   0   0   0   0   0 121   0   1   0   0   0\n",
      "   0   0 122   0   1   0   0   0   0   0   2   0 165 165  90  90 165 165\n",
      " 165 165  90  90   2   0  90  90   0   0   0   0   0   0   0   0 123   0\n",
      "   1   0   0   0   0   0 124   0   1   0   0   0   0   0 125   0   1   0\n",
      "   0   0   0   0 126   0   1   0   0   0   0   0 127   0   1   0   0   0\n",
      "   0   0  25   0   1   0   0   0   0   0  26   0   1   0 255   0   0   0\n",
      "  27   0   1   0   1   0   0   0  28   0   1   0   1   0   0   0  29   0\n",
      "   1   0   0   0   0   0  10   0   6   0 128   0   0   0  32   0   1   0\n",
      "   0   0   0   0  33   0   1   0   0   0   0   0  30   0   1   0   0   0\n",
      "   0   0  31   0   1   0   0   1   0   0   2   0   6   0 255   0   0   0]\n",
      "Yeah\n",
      "256 \t 1024 \t [  0   0   0   0   0   0   0   0   1 210   0   0  96 198   1   0   0  68\n",
      "   2   0 128  68   3   0  16  69   4   0 144  69   5   0  16  70   6   0\n",
      " 160  70   7   0  32  71   8   0 160  71   9   0  32  72  10   0 128  72\n",
      "  11   0 224  72  12   0  64  73  13   0 160  73  14   0   0  74  15   0\n",
      "  96  74  16   0 176  74  17   0   0  75  18   0  48  75  19   0  96  75\n",
      "  20   0 144  75  21   0 176  75  22   0 224  75  23   0   0  76  24   0\n",
      "   0  76  25   0   0  76  26   0   0  76  27   0   0  76  28   0   0  76\n",
      "  29   0   0  76  30   0   0  76  31   0   0  76  32   0   0  76  33   0\n",
      "   0  76  34   0   0  76  35   0   0  76  36   0   0  76  37   0   0  76\n",
      "  38   0   0  76  39   0   0  76  40   0   0  76  41   0   0  76  42   0\n",
      "   0  76  43   0   0  76  44   0   0  76  45   0   0  76  46   0   0  76\n",
      "  47   0   0  76  48   0   0  76  49   0   0  76  50   0   0  76  51   0\n",
      "   0  76  52   0   0  76  53   0   0  76  54   0   0  76  55   0   0  76\n",
      "  56   0   0  76  57   0   0  76  58   0   0  76  59   0   0  76  60   0\n",
      "   0  76  61   0   0  76  62   0   0  76  63   0   0  76  64   0   0  76\n",
      "  65   0   0  76  66   0   0  76  67   0   0  76  68   0   0  76  69   0\n",
      "   0  76  70   0   0  76  71   0   0  76  72   0   0  76  73   0   0  76\n",
      "  74   0   0  76  75   0   0  76  76   0   0  76  77   0   0  76  78   0\n",
      "   0  76  79   0   0  76  80   0   0  76  81   0   0  76  82   0   0  76\n",
      "  83   0   0  76  84   0   0  76  85   0   0  76  86   0   0  76  87   0\n",
      "   0  76  88   0   0  76  89   0   0  76  90   0   0  76  91   0   0  76\n",
      "  92   0   0  76  93   0   0  76  94   0   0  76  95   0   0  76  96   0\n",
      "   0  76  97   0   0  76  98   0   0  76  99   0   0  76 100   0   0  76\n",
      " 101   0   0  76 102   0   0  76 103   0   0  76 104   0   0  76 105   0\n",
      "   0  76 106   0   0  76 107   0   0  76 108   0   0  76 109   0   0  76\n",
      " 110   0   0  76 111   0   0  76 112   0   0  76 113   0   0  76 114   0\n",
      "   0  76 115   0   0  76 116   0   0  76 117   0   0  76 118   0   0  76\n",
      " 119   0   0  76 120   0   0  76 121   0   0  76 122   0   0  76 123   0\n",
      "   0  76 124   0   0  76 125   0   0  76 126   0   0  76 127   0]\n",
      "Yeah\n",
      "260 \t 512 \t [  0   0   0   0   0   0   0   0  60   0  16   0  15   4  17   0  15   5\n",
      "  18   0   0 255  19   0   0   8  20   0   1   9  21   0   0  13  22   0\n",
      "  15  14  23   0   0  15  24   0  32  16  25   0   6  17  26   0   8  18\n",
      "  27   0   1  20  28   0   0  21  29   0   3  22  30   0   3  24  31   0\n",
      "  85  25  32   0   5  26  33   0  85  27  34   0   5  28  35   0   0  33\n",
      "  36   0   0  34  37   0  71  43  38   0   0  44  39   0   0  45  40   0\n",
      "   1 255  41   0   0   0   0   0   0   0   0   0   0   0   0   0   0   0\n",
      "   0   0   0   0   0   0   0   0   0   0   0   0   0   0   0   0   0   0\n",
      "   0   0   0   0   0   0   0   0   0   0   0   0   0   0   0   0   0   0\n",
      "   0   0   0   0   0   0   0   0   0   0   0   0   0   0   0   0   0   0\n",
      "   0   0   0   0   0   0   0   0   0   0   0   0   0   0   0   0   0   0\n",
      "   0   0   0   0   0   0   0   0   0   0   0   0   0   0   0   0   0   0\n",
      "   0   0   0   0   0   0   0   0   0   0   0   0   0   0   0   0   0   0\n",
      "   0   0   0   0   0   0   0   0   0   0   0   0   0   0   0   0   0   0\n",
      "   0   0   0   0   0   0   0   0   0   0   0   0]\n",
      "Yeah\n",
      "263 \t 1024 \t [  0   0   0   0   0   0   0   0  17  17   0   0  17  17   1   0  17  33\n",
      "   2   0  34  34   3   0  34  34   4   0  34  68   5   0  68  68   6   0\n",
      "  68  68   7   0  68  68   8   0  68  68   9   0  68  68  10   0  68  68\n",
      "  11   0  68  68  12   0  68  68  13   0  68  68  14   0  68  68  15   0\n",
      "  68  68  16   0  68  68  17   0  68  68  18   0  68  68  19   0  68  68\n",
      "  20   0  68  68  21   0  68  68  22   0  68  68  23   0  68  68  24   0\n",
      "  68  68  25   0  68  68  26   0  68  68  27   0  68  68  28   0  68  68\n",
      "  29   0  68  68  30   0  68  68  31   0  68  68  32   0  68  68  33   0\n",
      "  68  68  34   0  68  68  35   0  68  68  36   0  68  68  37   0  68  68\n",
      "  38   0  68  68  39   0  68  68  40   0  68  68  41   0  68  68  42   0\n",
      "  68  68  43   0  68  68  44   0  68  68  45   0  68  68  46   0  68  68\n",
      "  47   0  68  68  48   0  68  68  49   0  68  68  50   0  68  68  51   0\n",
      "  68  68  52   0  68  68  53   0  68  68  54   0  68  68  55   0  68  68\n",
      "  56   0  68  68  57   0  68  68  58   0  68  68  59   0  68  68  60   0\n",
      "  68  68  61   0  68  68  62   0  68  68  63   0  34  34  64   0  34  34\n",
      "  65   0  34  18  66   0  17  17  67   0  17  17  68   0  17  68  69   0\n",
      "  68  68  70   0  68  68  71   0  68  68  72   0  68  68  73   0  68  68\n",
      "  74   0  68  68  75   0  68  68  76   0  68  68  77   0  68  68  78   0\n",
      "  68  68  79   0  68  68  80   0  68  68  81   0  68  68  82   0  68  68\n",
      "  83   0  68  68  84   0  68  68  85   0  68  68  86   0  68  68  87   0\n",
      "  68  68  88   0  68  68  89   0  68  68  90   0  68  68  91   0  68  68\n",
      "  92   0  68  68  93   0  68  68  94   0  68  68  95   0  68  68  96   0\n",
      "  68  68  97   0  68  68  98   0  68  68  99   0  68  68 100   0  68  68\n",
      " 101   0  68  68 102   0  68  68 103   0  68  68 104   0  68  68 105   0\n",
      "  68  68 106   0  68  68 107   0  68  68 108   0  68  68 109   0  68  68\n",
      " 110   0  68  68 111   0  68  68 112   0  68  68 113   0  68  68 114   0\n",
      "  68  68 115   0  68  68 116   0  68  68 117   0  68  68 118   0  68  68\n",
      " 119   0  68  68 120   0  68  68 121   0  68  68 122   0  68  68 123   0\n",
      "  68  68 124   0  68  68 125   0  68  68 126   0  68  68 127   0]\n",
      "Yeah\n",
      "265 \t 2560 \t [  0   0   0 ...   0 255   3]\n",
      "Yeah\n",
      "267 \t 1536 \t [  0   0   0 ... 179 255   0]\n"
     ]
    }
   ],
   "source": [
    "for k in [254, 256, 260, 263, 265, 267]:\n",
    "    PL = probe.payloads[str(k)]\n",
    "    pl = np.trim_zeros(np.array( struct.unpack( '>'+str(len(PL)//1)+'B', PL ) ) , 'b')\n",
    "    pl = pl[4:-4] # trimming 165 165  90  90  //   90  90 165 165\n",
    "    if (pl[:2] == pl[-4:-2]).all():\n",
    "        print(\"Yeah\")\n",
    "        pl = pl[4:-4]\n",
    "    print(k,\"\\t\",len(PL),\"\\t\",pl)"
   ]
  },
  {
   "cell_type": "code",
   "execution_count": 60,
   "id": "subject-signature",
   "metadata": {},
   "outputs": [
    {
     "name": "stdout",
     "output_type": "stream",
     "text": [
      "254 \t 1024 \t [42405 23130     2 23130     0     0     0     0   100     1     0     0\n",
      "    36     1    41     0    12     1     0     0     3     6     1     0\n",
      "     9     1 65528 65535     1     1 40688     0     7     6 13859 61624\n",
      "     8     1  1788     0    23     1     3     0     1     7   255 65535\n",
      "     8     6  5176 64697     7     1    56     0     2     1  2560     0\n",
      "   101     1     0     0    37     1    16     0    10     1 65532 65535\n",
      "    11     1 65534 65535    13     1     0     0    14     1 65534 65535\n",
      "    15     1 65532 65535    16     1 65528 65535    17     1     9     0\n",
      "    18     1     5     0    19     1     2     0    20     1     0     0\n",
      "    21     1     0     0    22     1     1     0    24     1     7     0\n",
      "     3     1    22     0     4     1     1     0     5     1    11     0\n",
      "    98     1     0     0    34     1 64918 27103    99     1     0     0\n",
      "    35     1  6096     0   106     1     0     0     5     6 18180 51436\n",
      "     6     6 18448 56778   128     1   152     0    96     1     0     0\n",
      "    97     1     0     0   102     1     0     0   103     1     0     0\n",
      "   104     1     0     0   105     1     0     0   107     1     0     0\n",
      "   108     1     0     0   109     1     0     0   110     1     0     0\n",
      "   111     1     0     0   112     1  5791     0   113     1  3114     0\n",
      "   114     1  1261     0   115     1   232     0   116     1    26     0\n",
      "   117     1   643     0   118     1  2085     0   119     1  4349     0\n",
      "   120     1     0     0   121     1     0     0   122     1     0     0\n",
      "     2 42405 23130 42405 42405 23130     2 23130     0     0     0     0\n",
      "   123     1     0     0   124     1     0     0   125     1     0     0\n",
      "   126     1     0     0   127     1     0     0    25     1     0     0\n",
      "    26     1   255     0    27     1     1     0    28     1     1     0\n",
      "    29     1     0     0    10     6   128     0    32     1     0     0\n",
      "    33     1     0     0    30     1     0     0    31     1   256     0\n",
      "     2     6   255     0     2 42405 23130 42405]\n",
      "256 \t 1024 \t [42405 23130     3 23130     0     0     0     0 53761     0 50784     1\n",
      " 17408     2 17536     3 17680     4 17808     5 17936     6 18080     7\n",
      " 18208     8 18336     9 18464    10 18560    11 18656    12 18752    13\n",
      " 18848    14 18944    15 19040    16 19120    17 19200    18 19248    19\n",
      " 19296    20 19344    21 19376    22 19424    23 19456    24 19456    25\n",
      " 19456    26 19456    27 19456    28 19456    29 19456    30 19456    31\n",
      " 19456    32 19456    33 19456    34 19456    35 19456    36 19456    37\n",
      " 19456    38 19456    39 19456    40 19456    41 19456    42 19456    43\n",
      " 19456    44 19456    45 19456    46 19456    47 19456    48 19456    49\n",
      " 19456    50 19456    51 19456    52 19456    53 19456    54 19456    55\n",
      " 19456    56 19456    57 19456    58 19456    59 19456    60 19456    61\n",
      " 19456    62 19456    63 19456    64 19456    65 19456    66 19456    67\n",
      " 19456    68 19456    69 19456    70 19456    71 19456    72 19456    73\n",
      " 19456    74 19456    75 19456    76 19456    77 19456    78 19456    79\n",
      " 19456    80 19456    81 19456    82 19456    83 19456    84 19456    85\n",
      " 19456    86 19456    87 19456    88 19456    89 19456    90 19456    91\n",
      " 19456    92 19456    93 19456    94 19456    95 19456    96 19456    97\n",
      " 19456    98 19456    99 19456   100 19456   101 19456   102 19456   103\n",
      " 19456   104 19456   105 19456   106 19456   107 19456   108 19456   109\n",
      " 19456   110 19456   111 19456   112 19456   113 19456   114 19456   115\n",
      " 19456   116 19456   117 19456   118 19456   119 19456   120 19456   121\n",
      " 19456   122 19456   123 19456   124 19456   125 19456   126 19456   127\n",
      "     3 42405 23130 42405]\n"
     ]
    }
   ],
   "source": [
    "for k in [254,256]:\n",
    "    PL = probe.payloads[str(k)]\n",
    "    pl = np.trim_zeros(np.array( struct.unpack( '<'+str(len(PL)//2)+'H', PL ) ) , 'b') \n",
    "\n",
    "    print(k,\"\\t\",len(PL),\"\\t\",pl)"
   ]
  },
  {
   "cell_type": "markdown",
   "id": "minimal-plate",
   "metadata": {},
   "source": [
    "## Comments:\n",
    "\n",
    "* 256 could be a gain line. Still, 128 values indicated, may hint at something to do with number of lines?\n",
    "* 254 a bit similar. Values not in order though."
   ]
  },
  {
   "cell_type": "code",
   "execution_count": 49,
   "id": "professional-string",
   "metadata": {},
   "outputs": [
    {
     "name": "stdout",
     "output_type": "stream",
     "text": [
      "263 \t 1024 \t [42405 23130     5 23130     0     0     0     0  4369     0  4369     1\n",
      "  8465     2  8738     3  8738     4 17442     5 17476     6 17476     7\n",
      " 17476     8 17476     9 17476    10 17476    11 17476    12 17476    13\n",
      " 17476    14 17476    15 17476    16 17476    17 17476    18 17476    19\n",
      " 17476    20 17476    21 17476    22 17476    23 17476    24 17476    25\n",
      " 17476    26 17476    27 17476    28 17476    29 17476    30 17476    31\n",
      " 17476    32 17476    33 17476    34 17476    35 17476    36 17476    37\n",
      " 17476    38 17476    39 17476    40 17476    41 17476    42 17476    43\n",
      " 17476    44 17476    45 17476    46 17476    47 17476    48 17476    49\n",
      " 17476    50 17476    51 17476    52 17476    53 17476    54 17476    55\n",
      " 17476    56 17476    57 17476    58 17476    59 17476    60 17476    61\n",
      " 17476    62 17476    63  8738    64  8738    65  4642    66  4369    67\n",
      "  4369    68 17425    69 17476    70 17476    71 17476    72 17476    73\n",
      " 17476    74 17476    75 17476    76 17476    77 17476    78 17476    79\n",
      " 17476    80 17476    81 17476    82 17476    83 17476    84 17476    85\n",
      " 17476    86 17476    87 17476    88 17476    89 17476    90 17476    91\n",
      " 17476    92 17476    93 17476    94 17476    95 17476    96 17476    97\n",
      " 17476    98 17476    99 17476   100 17476   101 17476   102 17476   103\n",
      " 17476   104 17476   105 17476   106 17476   107 17476   108 17476   109\n",
      " 17476   110 17476   111 17476   112 17476   113 17476   114 17476   115\n",
      " 17476   116 17476   117 17476   118 17476   119 17476   120 17476   121\n",
      " 17476   122 17476   123 17476   124 17476   125 17476   126 17476   127\n",
      "     5 42405 23130 42405]\n",
      "265 \t 2560 \t [42405 23130     6 ... 42405 23130 42405]\n",
      "267 \t 1536 \t [42405 23130     1 23130     0     0     0     0 29185     0 29441     1\n",
      " 12803     2 13059     3 12805     4 13061     5 12807     6 13063     7\n",
      " 12809     8 13065     9 12811    10 13067    11 12813    12 13069    13\n",
      " 12815    14 13071    15 12817    16 13073    17 12819    18 13075    19\n",
      " 12821    20 13077    21 12823    22 13079    23 12825    24 13081    25\n",
      " 12827    26 13083    27 12829    28 13085    29 12831    30 13087    31\n",
      " 12833    32 13089    33 12835    34 13091    35 12837    36 13093    37\n",
      " 12839    38 13095    39 12841    40 13097    41 12843    42 13099    43\n",
      " 12845    44 13101    45 12847    46 13103    47 12849    48 13105    49\n",
      " 12851    50 13107    51 12853    52 13109    53 12855    54 13111    55\n",
      " 12857    56 13113    57 12859    58 13115    59 12861    60 13117    61\n",
      " 12863    62 13119    63 12865    64 13121    65 12867    66 13123    67\n",
      " 12869    68 13125    69 12871    70 13127    71 12873    72 13129    73\n",
      " 12875    74 13131    75 12877    76 13133    77 12879    78 13135    79\n",
      " 12881    80 13137    81 12883    82 13139    83 12885    84 13141    85\n",
      " 12887    86 13143    87 12889    88 13145    89 12891    90 13147    91\n",
      " 12893    92 13149    93 12895    94 13151    95 12897    96 13153    97\n",
      " 12899    98 13155    99 12901   100 13157   101 12903   102 13159   103\n",
      " 12905   104 13161   105 12907   106 13163   107 12909   108 13165   109\n",
      " 12911   110 13167   111 12913   112 13169   113 12915   114 13171   115\n",
      " 12917   116 13173   117 12919   118 13175   119 12921   120 13177   121\n",
      " 12923   122 13179   123 12925   124 13181   125 12927   126 13183   127\n",
      " 12929   128 13185   129 12931   130 13187   131 12933   132 13189   133\n",
      " 12935   134 13191   135 12937   136 13193   137 12939   138 13195   139\n",
      " 12941   140 13197   141 12943   142 13199   143 12945   144 13201   145\n",
      " 12947   146 13203   147 12949   148 13205   149 12951   150 13207   151\n",
      " 12953   152 13209   153 12955   154 13211   155 12957   156 13213   157\n",
      " 12959   158 13215   159 12961   160 13217   161 12963   162 13219   163\n",
      " 12965   164 13221   165 12967   166 13223   167 12969   168 13225   169\n",
      " 12971   170 13227   171 12973   172 13229   173 12975   174 13231   175\n",
      " 12977   176 13233   177 12979   178 13235   179 12981   180 13237   181\n",
      " 12983   182 13239   183 12985   184 13241   185 12987   186 13243   187\n",
      " 12989   188 13245   189 12991   190 13247   191 12993   192 13249   193\n",
      " 12995   194 13251   195 12997   196 13253   197 12999   198 13255   199\n",
      " 13001   200 13257   201 13003   202 13259   203 13005   204 13261   205\n",
      " 13007   206 13263   207 13009   208 13265   209 13011   210 13267   211\n",
      " 13013   212 13269   213 13015   214 13271   215 13017   216 13273   217\n",
      " 13019   218 13275   219 13021   220 13277   221 13023   222 13279   223\n",
      " 13025   224 13281   225 13027   226 13283   227 13029   228 13285   229\n",
      " 13031   230 13287   231 13033   232 13289   233 13035   234 13291   235\n",
      " 13037   236 13293   237 13039   238 13295   239 13041   240 13297   241\n",
      " 13043   242 13299   243 13045   244 13301   245 13047   246 13303   247\n",
      " 13049   248 13305   249 13051   250 13307   251 13053   252 13309   253\n",
      " 45823   254 46079   255     1 42405 23130 42405]\n"
     ]
    }
   ],
   "source": [
    "for k in [263, 265, 267]:\n",
    "    PL = probe.payloads[str(k)]\n",
    "    pl = np.trim_zeros(np.array( struct.unpack( '<'+str(len(PL)//2)+'H', PL ) ) , 'b')\n",
    "\n",
    "\n",
    "    print(k,\"\\t\",len(PL),\"\\t\",pl)"
   ]
  },
  {
   "cell_type": "markdown",
   "id": "varying-stake",
   "metadata": {},
   "source": [
    "* 263: Seems to be again a table. Command 5. Values in [value, register] order.\n",
    "* 267: Same for 256 values. On command 1.\n",
    "* 265: Command 6.\n",
    "\n",
    "# 260 seems to be 16 to 40 values. 24 spots. 24 is 8x3. Why?"
   ]
  },
  {
   "cell_type": "code",
   "execution_count": 58,
   "id": "cross-unemployment",
   "metadata": {},
   "outputs": [
    {
     "name": "stdout",
     "output_type": "stream",
     "text": [
      "260 \t 512 \t [42405 23130     4 23130     0     0     0     0    60    16  1039    17\n",
      "  1295    18 65280    19  2048    20  2305    21  3328    22  3599    23\n",
      "  3840    24  4128    25  4358    26  4616    27  5121    28  5376    29\n",
      "  5635    30  6147    31  6485    32  6661    33  6997    34  7173    35\n",
      "  8448    36  8704    37 11079    38 11264    39 11520    40 65281    41\n",
      "     0     0     0     0     0     0     0     0     0     0     0     0\n",
      "     0     0     0     0     0     0     0     0     0     0     0     0\n",
      "     0     0     0     0     0     0     0     0     0     0     0     0\n",
      "     0     0     0     0     0     0     0     0     0     0     0     0\n",
      "     0     0     0     0     0     0     0     0     0     0     0     0\n",
      "     0     0     0     0     0     0     0     0     0     0     0     0\n",
      "     0     0     0     0     4 42405 23130 42405]\n"
     ]
    }
   ],
   "source": [
    "for k in [260]:\n",
    "    PL = probe.payloads[str(k)]\n",
    "    pl = np.trim_zeros(np.array( struct.unpack( '<'+str(len(PL)//2)+'H', PL ) ) , 'b')\n",
    "\n",
    "\n",
    "    print(k,\"\\t\",len(PL),\"\\t\",pl)"
   ]
  },
  {
   "cell_type": "code",
   "execution_count": 50,
   "id": "grateful-ministry",
   "metadata": {},
   "outputs": [
    {
     "name": "stdout",
     "output_type": "stream",
     "text": [
      "265 \t 2560 \t [42405 23130     6 ... 42405 23130 42405]\n"
     ]
    }
   ],
   "source": [
    "for k in [265]:\n",
    "    PL = probe.payloads[str(k)]\n",
    "    pl = np.trim_zeros(np.array( struct.unpack( '<'+str(len(PL)//2)+'H', PL ) ) , 'b')\n",
    "\n",
    "\n",
    "    print(k,\"\\t\",len(PL),\"\\t\",pl)"
   ]
  },
  {
   "cell_type": "code",
   "execution_count": 53,
   "id": "prospective-camcorder",
   "metadata": {},
   "outputs": [
    {
     "data": {
      "text/plain": [
       "[<matplotlib.lines.Line2D at 0x7f7b6063a978>]"
      ]
     },
     "execution_count": 53,
     "metadata": {},
     "output_type": "execute_result"
    },
    {
     "data": {
      "image/png": "[encoded data removed]",
      "text/plain": [
       "<Figure size 432x288 with 1 Axes>"
      ]
     },
     "metadata": {
      "needs_background": "light"
     },
     "output_type": "display_data"
    }
   ],
   "source": [
    "plt.plot(pl[4:200])"
   ]
  },
  {
   "cell_type": "code",
   "execution_count": null,
   "id": "casual-authentication",
   "metadata": {},
   "outputs": [],
   "source": []
  }
 ],
 "metadata": {
  "kernelspec": {
   "display_name": "Python 3",
   "language": "python",
   "name": "python3"
  },
  "language_info": {
   "codemirror_mode": {
    "name": "ipython",
    "version": 3
   },
   "file_extension": ".py",
   "mimetype": "text/x-python",
   "name": "python",
   "nbconvert_exporter": "python",
   "pygments_lexer": "ipython3",
   "version": "3.6.9"
  }
 },
 "nbformat": 4,
 "nbformat_minor": 5
}
